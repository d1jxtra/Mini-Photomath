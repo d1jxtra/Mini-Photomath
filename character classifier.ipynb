{
 "cells": [
  {
   "cell_type": "code",
   "execution_count": 40,
   "id": "93063f05",
   "metadata": {},
   "outputs": [],
   "source": [
    "import numpy as np\n",
    "import matplotlib.pyplot as plt\n",
    "import pandas as pd\n",
    "import pickle\n",
    "\n",
    "from tensorflow.keras.models import Sequential\n",
    "from tensorflow.keras.utils import to_categorical\n",
    "from tensorflow.keras.layers import Conv2D, MaxPooling2D, Dense, Flatten, Dropout\n",
    "from tensorflow.keras.optimizers import Adam\n",
    "from tensorflow.keras.callbacks import EarlyStopping\n",
    "\n",
    "from sklearn.model_selection import train_test_split"
   ]
  },
  {
   "cell_type": "code",
   "execution_count": 2,
   "id": "92bab5e8",
   "metadata": {},
   "outputs": [],
   "source": [
    "%matplotlib inline"
   ]
  },
  {
   "cell_type": "markdown",
   "id": "977b0320",
   "metadata": {},
   "source": [
    "## Priprema podataka"
   ]
  },
  {
   "cell_type": "code",
   "execution_count": 44,
   "id": "0eddd3f4",
   "metadata": {},
   "outputs": [],
   "source": [
    "data=np.load('CompleteDataSet_validation_tuples/CompleteDataSet_validation_tuples.npy',allow_pickle=True)"
   ]
  },
  {
   "cell_type": "code",
   "execution_count": 45,
   "id": "488205c7",
   "metadata": {},
   "outputs": [
    {
     "data": {
      "text/plain": [
       "array(['%', '*', '+', '-', '0', '1', '2', '3', '4', '5', '6', '7', '8',\n",
       "       '9', '[', ']'], dtype=object)"
      ]
     },
     "execution_count": 45,
     "metadata": {},
     "output_type": "execute_result"
    }
   ],
   "source": [
    "#Svi prisutni labeli\n",
    "np.unique(data[:,1])"
   ]
  },
  {
   "cell_type": "code",
   "execution_count": 57,
   "id": "e156e7c3",
   "metadata": {},
   "outputs": [],
   "source": [
    "X=data[:,0]\n",
    "y=data[:,1]\n",
    "#'%' zapravo označava '/' pa zamijenimo label\n",
    "y=np.where(y!='%',y,'/')"
   ]
  },
  {
   "cell_type": "code",
   "execution_count": 59,
   "id": "4bc4739a",
   "metadata": {},
   "outputs": [
    {
     "data": {
      "image/png": "[encoded data removed]",
      "text/plain": [
       "<Figure size 432x288 with 1 Axes>"
      ]
     },
     "metadata": {
      "needs_background": "light"
     },
     "output_type": "display_data"
    }
   ],
   "source": [
    "unique, indices, counts = np.unique(y, return_index=True ,return_counts=True)\n",
    "fig, ax = plt.subplots()\n",
    "ax.bar(unique,counts)\n",
    "plt.show()"
   ]
  },
  {
   "cell_type": "code",
   "execution_count": 60,
   "id": "30a4b901",
   "metadata": {},
   "outputs": [
    {
     "data": {
      "text/plain": [
       "(66777, 2)"
      ]
     },
     "execution_count": 60,
     "metadata": {},
     "output_type": "execute_result"
    }
   ],
   "source": [
    "data.shape"
   ]
  },
  {
   "cell_type": "code",
   "execution_count": 61,
   "id": "893540ab",
   "metadata": {},
   "outputs": [
    {
     "data": {
      "image/png": "[encoded data removed]",
      "text/plain": [
       "<Figure size 936x144 with 16 Axes>"
      ]
     },
     "metadata": {},
     "output_type": "display_data"
    }
   ],
   "source": [
    "characters = X[indices]\n",
    "plt.figure(figsize=(13, 2))\n",
    "for i in range(len(characters)):\n",
    "    plt.subplot(1, len(characters), i + 1)\n",
    "    plt.imshow(characters[i], cmap='gray', vmin=0, vmax=1)\n",
    "    plt.xticks([])\n",
    "    plt.yticks([])\n",
    "    plt.title(y[indices][i])\n",
    "plt.tight_layout()"
   ]
  },
  {
   "cell_type": "code",
   "execution_count": 62,
   "id": "f7dcd3f7",
   "metadata": {},
   "outputs": [],
   "source": [
    "X_train, X_test, y_train, y_test = train_test_split(X, y, test_size=0.2, random_state=3)\n",
    "\n",
    "X_train = np.stack(X_train, axis=0)\n",
    "X_train = X_train.reshape((X_train.shape[0], 28, 28, 1))\n",
    "\n",
    "X_test = np.stack(X_test, axis=0)\n",
    "X_test = X_test.reshape((X_test.shape[0], 28, 28, 1))\n",
    "\n",
    "y_train=pd.get_dummies(y_train).values\n",
    "y_test=pd.get_dummies(y_test).values\n",
    "\n",
    "X_train=X_train.astype('float32')\n",
    "X_test=X_test.astype('float32')"
   ]
  },
  {
   "cell_type": "markdown",
   "id": "c11973a6",
   "metadata": {},
   "source": [
    "## Kreiranje CNN modela"
   ]
  },
  {
   "cell_type": "code",
   "execution_count": 63,
   "id": "9eef9e21",
   "metadata": {},
   "outputs": [],
   "source": [
    "def create_model(learning_rate):\n",
    "    model=Sequential()\n",
    "    model.add(Conv2D(32, kernel_size=(3,3), activation='relu', input_shape=(28,28,1)))\n",
    "    model.add(MaxPooling2D(pool_size=(2,2)))\n",
    "    model.add(Dropout(0.2))\n",
    "    model.add(Conv2D(64, kernel_size=(3,3), activation='relu'))\n",
    "    model.add(MaxPooling2D(pool_size=(2,2)))\n",
    "    model.add(Dropout(0.2))\n",
    "    model.add(Flatten())\n",
    "    model.add(Dense(128, activation='relu'))\n",
    "    model.add(Dropout(0.2))\n",
    "    model.add(Dense(unique.shape[0], activation='softmax'))\n",
    "    \n",
    "    model.compile(loss='categorical_crossentropy',optimizer=Adam(lr=learning_rate), metrics=['accuracy'])\n",
    "    return model"
   ]
  },
  {
   "cell_type": "code",
   "execution_count": 64,
   "id": "1bd9cce3",
   "metadata": {},
   "outputs": [],
   "source": [
    "def train_model(model, X_train, y_train, epochs, batch_size, validation):\n",
    "    callback = EarlyStopping(monitor='val_loss', mode='min')\n",
    "    history=model.fit(X_train, y_train, batch_size=batch_size,\n",
    "                      epochs=epochs, shuffle=True, callbacks=[callback], \n",
    "                      validation_split=validation)\n",
    "    epochs = history.epoch\n",
    "    hist = pd.DataFrame(history.history)\n",
    "    \n",
    "    return epochs, hist"
   ]
  },
  {
   "cell_type": "code",
   "execution_count": 65,
   "id": "63ff4405",
   "metadata": {},
   "outputs": [],
   "source": [
    "def plot_metrics(epochs, hist, metrics, title):\n",
    "    plt.figure()\n",
    "    plt.xlabel(\"Epoch\")\n",
    "    plt.ylabel(\"Value\")\n",
    "    plt.title(title)\n",
    "\n",
    "    for m in metrics:\n",
    "        x = hist[m]\n",
    "        plt.plot(epochs[1:], x[1:], label=m)\n",
    "\n",
    "    plt.legend()"
   ]
  },
  {
   "cell_type": "code",
   "execution_count": 72,
   "id": "292d5099",
   "metadata": {},
   "outputs": [],
   "source": [
    "learning_rate=0.001\n",
    "epochs=10\n",
    "validation=0.25\n",
    "batch_size=128"
   ]
  },
  {
   "cell_type": "code",
   "execution_count": 73,
   "id": "e30d34da",
   "metadata": {},
   "outputs": [
    {
     "name": "stdout",
     "output_type": "stream",
     "text": [
      "Train on 40065 samples, validate on 13356 samples\n",
      "Epoch 1/10\n",
      "40065/40065 [==============================] - 24s 594us/sample - loss: 0.8445 - accuracy: 0.7341 - val_loss: 0.3538 - val_accuracy: 0.8905\n",
      "Epoch 2/10\n",
      "40065/40065 [==============================] - 23s 565us/sample - loss: 0.3663 - accuracy: 0.8847 - val_loss: 0.2334 - val_accuracy: 0.9268\n",
      "Epoch 3/10\n",
      "40065/40065 [==============================] - 24s 609us/sample - loss: 0.2790 - accuracy: 0.9118 - val_loss: 0.2064 - val_accuracy: 0.9346\n",
      "Epoch 4/10\n",
      "40065/40065 [==============================] - 24s 591us/sample - loss: 0.2379 - accuracy: 0.9241 - val_loss: 0.1708 - val_accuracy: 0.9458\n",
      "Epoch 5/10\n",
      "40065/40065 [==============================] - 24s 611us/sample - loss: 0.2037 - accuracy: 0.9334 - val_loss: 0.1637 - val_accuracy: 0.9473\n",
      "Epoch 6/10\n",
      "40065/40065 [==============================] - 23s 576us/sample - loss: 0.1836 - accuracy: 0.9410 - val_loss: 0.1578 - val_accuracy: 0.9485\n",
      "Epoch 7/10\n",
      "40065/40065 [==============================] - 23s 576us/sample - loss: 0.1733 - accuracy: 0.9426 - val_loss: 0.1436 - val_accuracy: 0.9527\n",
      "Epoch 8/10\n",
      "40065/40065 [==============================] - 23s 586us/sample - loss: 0.1566 - accuracy: 0.9481 - val_loss: 0.1344 - val_accuracy: 0.9560\n",
      "Epoch 9/10\n",
      "40065/40065 [==============================] - 24s 603us/sample - loss: 0.1441 - accuracy: 0.9515 - val_loss: 0.1327 - val_accuracy: 0.9564\n",
      "Epoch 10/10\n",
      "40065/40065 [==============================] - 24s 603us/sample - loss: 0.1353 - accuracy: 0.9552 - val_loss: 0.1326 - val_accuracy: 0.9575\n"
     ]
    },
    {
     "data": {
      "text/plain": [
       "[0.1258727865693597, 0.9589698]"
      ]
     },
     "execution_count": 73,
     "metadata": {},
     "output_type": "execute_result"
    },
    {
     "data": {
      "image/png": "[encoded data removed]",
      "text/plain": [
       "<Figure size 432x288 with 1 Axes>"
      ]
     },
     "metadata": {
      "needs_background": "light"
     },
     "output_type": "display_data"
    },
    {
     "data": {
      "image/png": "[encoded data removed]",
      "text/plain": [
       "<Figure size 432x288 with 1 Axes>"
      ]
     },
     "metadata": {
      "needs_background": "light"
     },
     "output_type": "display_data"
    }
   ],
   "source": [
    "model=create_model(learning_rate)\n",
    "epochs, hist = train_model(model, X_train, y_train, \n",
    "                           epochs, batch_size, validation)\n",
    "plot_metrics(epochs, hist, ['accuracy','val_accuracy'], \"Accuracy\")\n",
    "plot_metrics(epochs, hist, ['loss','val_loss'], \"Loss\")\n",
    "model.evaluate(x = X_test, y = y_test, batch_size=batch_size, verbose=0)"
   ]
  },
  {
   "cell_type": "markdown",
   "id": "c029d2f8",
   "metadata": {},
   "source": [
    "## Spremanje modela"
   ]
  },
  {
   "cell_type": "code",
   "execution_count": 70,
   "id": "b45649bb",
   "metadata": {},
   "outputs": [
    {
     "name": "stdout",
     "output_type": "stream",
     "text": [
      "Model: \"sequential_11\"\n",
      "_________________________________________________________________\n",
      "Layer (type)                 Output Shape              Param #   \n",
      "=================================================================\n",
      "conv2d_25 (Conv2D)           (None, 26, 26, 32)        320       \n",
      "_________________________________________________________________\n",
      "max_pooling2d_22 (MaxPooling (None, 13, 13, 32)        0         \n",
      "_________________________________________________________________\n",
      "dropout_36 (Dropout)         (None, 13, 13, 32)        0         \n",
      "_________________________________________________________________\n",
      "conv2d_26 (Conv2D)           (None, 11, 11, 64)        18496     \n",
      "_________________________________________________________________\n",
      "max_pooling2d_23 (MaxPooling (None, 5, 5, 64)          0         \n",
      "_________________________________________________________________\n",
      "dropout_37 (Dropout)         (None, 5, 5, 64)          0         \n",
      "_________________________________________________________________\n",
      "flatten_11 (Flatten)         (None, 1600)              0         \n",
      "_________________________________________________________________\n",
      "dense_22 (Dense)             (None, 128)               204928    \n",
      "_________________________________________________________________\n",
      "dropout_38 (Dropout)         (None, 128)               0         \n",
      "_________________________________________________________________\n",
      "dense_23 (Dense)             (None, 16)                2064      \n",
      "=================================================================\n",
      "Total params: 225,808\n",
      "Trainable params: 225,808\n",
      "Non-trainable params: 0\n",
      "_________________________________________________________________\n"
     ]
    }
   ],
   "source": [
    "model.summary()"
   ]
  },
  {
   "cell_type": "code",
   "execution_count": 71,
   "id": "d09e9f51",
   "metadata": {},
   "outputs": [],
   "source": [
    "model.save('models/model_1.h5')"
   ]
  },
  {
   "cell_type": "markdown",
   "id": "c47e0ead",
   "metadata": {},
   "source": [
    "## Predikcije"
   ]
  },
  {
   "cell_type": "code",
   "execution_count": 74,
   "id": "d514fefa",
   "metadata": {},
   "outputs": [
    {
     "data": {
      "text/plain": [
       "{0: '*',\n",
       " 1: '+',\n",
       " 2: '-',\n",
       " 3: '/',\n",
       " 4: '0',\n",
       " 5: '1',\n",
       " 6: '2',\n",
       " 7: '3',\n",
       " 8: '4',\n",
       " 9: '5',\n",
       " 10: '6',\n",
       " 11: '7',\n",
       " 12: '8',\n",
       " 13: '9',\n",
       " 14: '[',\n",
       " 15: ']'}"
      ]
     },
     "execution_count": 74,
     "metadata": {},
     "output_type": "execute_result"
    }
   ],
   "source": [
    "#Kodiramo simbole brojevima\n",
    "codes={i:unique[i] for i in range(len(unique))}\n",
    "codes"
   ]
  },
  {
   "cell_type": "code",
   "execution_count": 75,
   "id": "052ccfd1",
   "metadata": {},
   "outputs": [],
   "source": [
    "#Spremamo kodove\n",
    "with open(\"codes\", \"wb\") as fp:   #Pickling\n",
    "    pickle.dump(codes, fp)"
   ]
  },
  {
   "cell_type": "code",
   "execution_count": 37,
   "id": "83fd0c0d",
   "metadata": {},
   "outputs": [
    {
     "data": {
      "image/png": "[encoded data removed]",
      "text/plain": [
       "<Figure size 432x288 with 1 Axes>"
      ]
     },
     "metadata": {
      "needs_background": "light"
     },
     "output_type": "display_data"
    }
   ],
   "source": [
    "plt.imshow(X_test[3])\n",
    "#label\n",
    "plt.title(f'Pravi label: {codes[np.argmax(y_test[3])]}')\n",
    "plt.show()"
   ]
  },
  {
   "cell_type": "code",
   "execution_count": 38,
   "id": "12b02eef",
   "metadata": {},
   "outputs": [
    {
     "name": "stdout",
     "output_type": "stream",
     "text": [
      "Predikcija modela je 7\n"
     ]
    }
   ],
   "source": [
    "prediction = model.predict(X_train[np.newaxis,3])\n",
    "print(f'Predikcija modela je {codes[np.argmax(prediction)]}')"
   ]
  },
  {
   "cell_type": "code",
   "execution_count": 42,
   "id": "726031e2",
   "metadata": {},
   "outputs": [
    {
     "data": {
      "text/plain": [
       "(28, 28, 1)"
      ]
     },
     "execution_count": 42,
     "metadata": {},
     "output_type": "execute_result"
    }
   ],
   "source": [
    "X_train[3].shape"
   ]
  },
  {
   "cell_type": "code",
   "execution_count": 43,
   "id": "a86fd53a",
   "metadata": {},
   "outputs": [
    {
     "data": {
      "text/plain": [
       "(1, 28, 28, 1)"
      ]
     },
     "execution_count": 43,
     "metadata": {},
     "output_type": "execute_result"
    }
   ],
   "source": [
    "X_train[np.newaxis,3].shape"
   ]
  },
  {
   "cell_type": "code",
   "execution_count": null,
   "id": "d69e4d57",
   "metadata": {},
   "outputs": [],
   "source": []
  }
 ],
 "metadata": {
  "kernelspec": {
   "display_name": "Python 3 (ipykernel)",
   "language": "python",
   "name": "python3"
  },
  "language_info": {
   "codemirror_mode": {
    "name": "ipython",
    "version": 3
   },
   "file_extension": ".py",
   "mimetype": "text/x-python",
   "name": "python",
   "nbconvert_exporter": "python",
   "pygments_lexer": "ipython3",
   "version": "3.7.11"
  }
 },
 "nbformat": 4,
 "nbformat_minor": 5
}
