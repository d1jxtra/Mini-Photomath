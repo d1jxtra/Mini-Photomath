{
 "cells": [
  {
   "cell_type": "code",
   "execution_count": 1,
   "id": "93063f05",
   "metadata": {},
   "outputs": [],
   "source": [
    "import numpy as np\n",
    "import matplotlib.pyplot as plt\n",
    "import pandas as pd\n",
    "import pickle\n",
    "\n",
    "from tensorflow.keras.models import Sequential\n",
    "from tensorflow.keras.utils import to_categorical\n",
    "from tensorflow.keras.layers import Conv2D, MaxPooling2D, Dense, Flatten, Dropout, BatchNormalization\n",
    "from tensorflow.keras.optimizers import Adam\n",
    "from tensorflow.keras.callbacks import EarlyStopping"
   ]
  },
  {
   "cell_type": "markdown",
   "id": "977b0320",
   "metadata": {},
   "source": [
    "## Data preparation"
   ]
  },
  {
   "cell_type": "code",
   "execution_count": 2,
   "id": "0eddd3f4",
   "metadata": {},
   "outputs": [],
   "source": [
    "data_train = np.load('CompleteDataSet_training_tuples/CompleteDataSet_training_tuples.npy',allow_pickle=True)\n",
    "data_test = np.load('CompleteDataSet_testing_tuples/CompleteDataSet_testing_tuples.npy',allow_pickle=True)\n",
    "data_validation = np.load('CompleteDataSet_validation_tuples/CompleteDataSet_validation_tuples.npy',allow_pickle=True)"
   ]
  },
  {
   "cell_type": "code",
   "execution_count": 3,
   "id": "c2ce9e38",
   "metadata": {},
   "outputs": [
    {
     "data": {
      "text/plain": [
       "((200331, 2), (66778, 2), (66777, 2))"
      ]
     },
     "execution_count": 3,
     "metadata": {},
     "output_type": "execute_result"
    }
   ],
   "source": [
    "data_train.shape, data_test.shape, data_validation.shape"
   ]
  },
  {
   "cell_type": "code",
   "execution_count": 4,
   "id": "488205c7",
   "metadata": {},
   "outputs": [
    {
     "data": {
      "text/plain": [
       "array(['%', '*', '+', '-', '0', '1', '2', '3', '4', '5', '6', '7', '8',\n",
       "       '9', '[', ']'], dtype=object)"
      ]
     },
     "execution_count": 4,
     "metadata": {},
     "output_type": "execute_result"
    }
   ],
   "source": [
    "#All unique labels\n",
    "np.unique(data_train[:,1])"
   ]
  },
  {
   "cell_type": "code",
   "execution_count": 5,
   "id": "e156e7c3",
   "metadata": {},
   "outputs": [],
   "source": [
    "X_train = data_train[:,0]\n",
    "y_train = data_train[:,1]\n",
    "\n",
    "X_test = data_test[:,0]\n",
    "y_test = data_test[:,1]\n",
    "\n",
    "X_validation = data_validation[:,0]\n",
    "y_validation = data_validation[:,1]\n",
    "\n",
    "#'%' is actually '/', so we change the label\n",
    "y_train = np.where(y_train!='%',y_train,'/')\n",
    "y_test = np.where(y_test!='%',y_test,'/')\n",
    "y_validation = np.where(y_validation!='%',y_validation,'/')"
   ]
  },
  {
   "cell_type": "code",
   "execution_count": 6,
   "id": "4bc4739a",
   "metadata": {},
   "outputs": [
    {
     "data": {
      "image/png": "[encoded data removed]",
      "text/plain": [
       "<Figure size 432x288 with 1 Axes>"
      ]
     },
     "metadata": {
      "needs_background": "light"
     },
     "output_type": "display_data"
    }
   ],
   "source": [
    "unique, indices, counts = np.unique(y_train, return_index=True ,return_counts=True)\n",
    "fig, ax = plt.subplots()\n",
    "ax.bar(unique,counts)\n",
    "plt.show()"
   ]
  },
  {
   "cell_type": "code",
   "execution_count": 7,
   "id": "893540ab",
   "metadata": {},
   "outputs": [
    {
     "data": {
      "image/png": "[encoded data removed]",
      "text/plain": [
       "<Figure size 936x144 with 16 Axes>"
      ]
     },
     "metadata": {},
     "output_type": "display_data"
    }
   ],
   "source": [
    "characters = X_train[indices]\n",
    "plt.figure(figsize=(13, 2))\n",
    "for i in range(len(characters)):\n",
    "    plt.subplot(1, len(characters), i + 1)\n",
    "    plt.imshow(characters[i], cmap='gray', vmin=0, vmax=1)\n",
    "    plt.xticks([])\n",
    "    plt.yticks([])\n",
    "    plt.title(y_train[indices][i])\n",
    "plt.tight_layout()"
   ]
  },
  {
   "cell_type": "code",
   "execution_count": 8,
   "id": "f7dcd3f7",
   "metadata": {},
   "outputs": [],
   "source": [
    "X_train = np.stack(X_train, axis=0)\n",
    "X_train = X_train.reshape((X_train.shape[0], 28, 28, 1))\n",
    "\n",
    "X_test = np.stack(X_test, axis=0)\n",
    "X_test = X_test.reshape((X_test.shape[0], 28, 28, 1))\n",
    "\n",
    "X_validation = np.stack(X_validation, axis=0)\n",
    "X_validation = X_validation.reshape((X_validation.shape[0], 28, 28, 1))\n",
    "\n",
    "y_train = pd.get_dummies(y_train).values\n",
    "y_test = pd.get_dummies(y_test).values\n",
    "y_validation = pd.get_dummies(y_validation).values\n",
    "\n",
    "X_train = X_train.astype('float32')\n",
    "X_test = X_test.astype('float32')\n",
    "X_validation = X_validation.astype('float32')"
   ]
  },
  {
   "cell_type": "markdown",
   "id": "c11973a6",
   "metadata": {},
   "source": [
    "## Creating CNN model"
   ]
  },
  {
   "cell_type": "code",
   "execution_count": 9,
   "id": "9eef9e21",
   "metadata": {},
   "outputs": [],
   "source": [
    "def create_model(learning_rate):\n",
    "    model=Sequential()\n",
    "    model.add(Conv2D(32, kernel_size=(3,3), activation='relu', input_shape=(28,28,1)))\n",
    "    model.add(MaxPooling2D(pool_size=(2,2)))\n",
    "    model.add(Dropout(0.2))\n",
    "    model.add(Conv2D(64, kernel_size=(3,3), activation='relu'))\n",
    "    model.add(MaxPooling2D(pool_size=(2,2)))\n",
    "    model.add(Dropout(0.2))\n",
    "    model.add(Flatten())\n",
    "    model.add(Dense(128, activation='relu'))\n",
    "    model.add(Dropout(0.2))\n",
    "    model.add(Dense(unique.shape[0], activation='softmax'))\n",
    "    \n",
    "    model.compile(loss='categorical_crossentropy',optimizer=Adam(lr=learning_rate), metrics=['accuracy'])\n",
    "    return model"
   ]
  },
  {
   "cell_type": "code",
   "execution_count": 10,
   "id": "1bd9cce3",
   "metadata": {},
   "outputs": [],
   "source": [
    "def train_model(model, X_train, y_train, epochs, batch_size, X_validation, y_validation):\n",
    "    callback = EarlyStopping(monitor='val_loss', mode='min', patience = 2)\n",
    "    history=model.fit(X_train, y_train, batch_size=batch_size,\n",
    "                      epochs=epochs, callbacks=[callback], \n",
    "                      validation_data=(X_validation, y_validation))\n",
    "    epochs = history.epoch\n",
    "    hist = pd.DataFrame(history.history)\n",
    "    \n",
    "    return epochs, hist"
   ]
  },
  {
   "cell_type": "code",
   "execution_count": 11,
   "id": "63ff4405",
   "metadata": {},
   "outputs": [],
   "source": [
    "def plot_metrics(epochs, hist, metrics, title):\n",
    "    plt.figure()\n",
    "    plt.xlabel(\"Epoch\")\n",
    "    plt.ylabel(\"Value\")\n",
    "    plt.title(title)\n",
    "\n",
    "    for m in metrics:\n",
    "        x = hist[m]\n",
    "        plt.plot(epochs[1:], x[1:], label=m)\n",
    "\n",
    "    plt.legend()"
   ]
  },
  {
   "cell_type": "code",
   "execution_count": 12,
   "id": "292d5099",
   "metadata": {},
   "outputs": [],
   "source": [
    "learning_rate=0.001\n",
    "epochs=15\n",
    "batch_size=128"
   ]
  },
  {
   "cell_type": "code",
   "execution_count": 13,
   "id": "e30d34da",
   "metadata": {},
   "outputs": [
    {
     "name": "stdout",
     "output_type": "stream",
     "text": [
      "Train on 200331 samples, validate on 66777 samples\n",
      "Epoch 1/15\n",
      "200331/200331 [==============================] - 129s 646us/sample - loss: 0.3958 - accuracy: 0.8751 - val_loss: 0.1469 - val_accuracy: 0.9526\n",
      "Epoch 2/15\n",
      "200331/200331 [==============================] - 117s 584us/sample - loss: 0.1865 - accuracy: 0.9396 - val_loss: 0.1142 - val_accuracy: 0.9621\n",
      "Epoch 3/15\n",
      "200331/200331 [==============================] - 120s 597us/sample - loss: 0.1486 - accuracy: 0.9513 - val_loss: 0.0978 - val_accuracy: 0.9671486 - ac\n",
      "Epoch 4/15\n",
      "200331/200331 [==============================] - 118s 589us/sample - loss: 0.1293 - accuracy: 0.9568 - val_loss: 0.0826 - val_accuracy: 0.9714\n",
      "Epoch 5/15\n",
      "200331/200331 [==============================] - 116s 580us/sample - loss: 0.1147 - accuracy: 0.9605 - val_loss: 0.0753 - val_accuracy: 0.9739\n",
      "Epoch 6/15\n",
      "200331/200331 [==============================] - 115s 574us/sample - loss: 0.1051 - accuracy: 0.9637 - val_loss: 0.0696 - val_accuracy: 0.9755\n",
      "Epoch 7/15\n",
      "200331/200331 [==============================] - 117s 582us/sample - loss: 0.0963 - accuracy: 0.9667 - val_loss: 0.0655 - val_accuracy: 0.9775\n",
      "Epoch 8/15\n",
      "200331/200331 [==============================] - 115s 572us/sample - loss: 0.0918 - accuracy: 0.9679 - val_loss: 0.0623 - val_accuracy: 0.9788\n",
      "Epoch 9/15\n",
      "200331/200331 [==============================] - 116s 579us/sample - loss: 0.0869 - accuracy: 0.9693 - val_loss: 0.0586 - val_accuracy: 0.9795\n",
      "Epoch 10/15\n",
      "200331/200331 [==============================] - 116s 580us/sample - loss: 0.0825 - accuracy: 0.9703 - val_loss: 0.0599 - val_accuracy: 0.9769\n",
      "Epoch 11/15\n",
      "200331/200331 [==============================] - 122s 609us/sample - loss: 0.0809 - accuracy: 0.9711 - val_loss: 0.0563 - val_accuracy: 0.9800\n",
      "Epoch 12/15\n",
      "200331/200331 [==============================] - 119s 592us/sample - loss: 0.0764 - accuracy: 0.9729 - val_loss: 0.0554 - val_accuracy: 0.9806\n",
      "Epoch 13/15\n",
      "200331/200331 [==============================] - 116s 580us/sample - loss: 0.0747 - accuracy: 0.9731 - val_loss: 0.0539 - val_accuracy: 0.9808\n",
      "Epoch 14/15\n",
      "200331/200331 [==============================] - 115s 576us/sample - loss: 0.0733 - accuracy: 0.9739 - val_loss: 0.0540 - val_accuracy: 0.9811\n",
      "Epoch 15/15\n",
      "200331/200331 [==============================] - 117s 582us/sample - loss: 0.0705 - accuracy: 0.9745 - val_loss: 0.0521 - val_accuracy: 0.9815\n"
     ]
    },
    {
     "data": {
      "text/plain": [
       "[0.055744979145982886, 0.9804277]"
      ]
     },
     "execution_count": 13,
     "metadata": {},
     "output_type": "execute_result"
    },
    {
     "data": {
      "image/png": "[encoded data removed]",
      "text/plain": [
       "<Figure size 432x288 with 1 Axes>"
      ]
     },
     "metadata": {
      "needs_background": "light"
     },
     "output_type": "display_data"
    },
    {
     "data": {
      "image/png": "[encoded data removed]",
      "text/plain": [
       "<Figure size 432x288 with 1 Axes>"
      ]
     },
     "metadata": {
      "needs_background": "light"
     },
     "output_type": "display_data"
    }
   ],
   "source": [
    "model=create_model(learning_rate)\n",
    "epochs, hist = train_model(model, X_train, y_train, \n",
    "                           epochs, batch_size, X_validation, y_validation)\n",
    "plot_metrics(epochs, hist, ['accuracy','val_accuracy'], \"Accuracy\")\n",
    "plot_metrics(epochs, hist, ['loss','val_loss'], \"Loss\")\n",
    "model.evaluate(x = X_test, y = y_test, batch_size=batch_size, verbose=0)"
   ]
  },
  {
   "cell_type": "markdown",
   "id": "c029d2f8",
   "metadata": {},
   "source": [
    "## Saving model"
   ]
  },
  {
   "cell_type": "code",
   "execution_count": 14,
   "id": "b45649bb",
   "metadata": {},
   "outputs": [
    {
     "name": "stdout",
     "output_type": "stream",
     "text": [
      "Model: \"sequential\"\n",
      "_________________________________________________________________\n",
      "Layer (type)                 Output Shape              Param #   \n",
      "=================================================================\n",
      "conv2d (Conv2D)              (None, 26, 26, 32)        320       \n",
      "_________________________________________________________________\n",
      "max_pooling2d (MaxPooling2D) (None, 13, 13, 32)        0         \n",
      "_________________________________________________________________\n",
      "dropout (Dropout)            (None, 13, 13, 32)        0         \n",
      "_________________________________________________________________\n",
      "conv2d_1 (Conv2D)            (None, 11, 11, 64)        18496     \n",
      "_________________________________________________________________\n",
      "max_pooling2d_1 (MaxPooling2 (None, 5, 5, 64)          0         \n",
      "_________________________________________________________________\n",
      "dropout_1 (Dropout)          (None, 5, 5, 64)          0         \n",
      "_________________________________________________________________\n",
      "flatten (Flatten)            (None, 1600)              0         \n",
      "_________________________________________________________________\n",
      "dense (Dense)                (None, 128)               204928    \n",
      "_________________________________________________________________\n",
      "dropout_2 (Dropout)          (None, 128)               0         \n",
      "_________________________________________________________________\n",
      "dense_1 (Dense)              (None, 16)                2064      \n",
      "=================================================================\n",
      "Total params: 225,808\n",
      "Trainable params: 225,808\n",
      "Non-trainable params: 0\n",
      "_________________________________________________________________\n"
     ]
    }
   ],
   "source": [
    "model.summary()"
   ]
  },
  {
   "cell_type": "code",
   "execution_count": 15,
   "id": "d09e9f51",
   "metadata": {},
   "outputs": [],
   "source": [
    "model.save('models/model_2.h5')"
   ]
  },
  {
   "cell_type": "markdown",
   "id": "c47e0ead",
   "metadata": {},
   "source": [
    "## Predictions"
   ]
  },
  {
   "cell_type": "code",
   "execution_count": 16,
   "id": "d514fefa",
   "metadata": {},
   "outputs": [
    {
     "data": {
      "text/plain": [
       "{0: '*',\n",
       " 1: '+',\n",
       " 2: '-',\n",
       " 3: '/',\n",
       " 4: '0',\n",
       " 5: '1',\n",
       " 6: '2',\n",
       " 7: '3',\n",
       " 8: '4',\n",
       " 9: '5',\n",
       " 10: '6',\n",
       " 11: '7',\n",
       " 12: '8',\n",
       " 13: '9',\n",
       " 14: '[',\n",
       " 15: ']'}"
      ]
     },
     "execution_count": 16,
     "metadata": {},
     "output_type": "execute_result"
    }
   ],
   "source": [
    "#We code symbols with numbers\n",
    "codes={i:unique[i] for i in range(len(unique))}\n",
    "codes"
   ]
  },
  {
   "cell_type": "code",
   "execution_count": 17,
   "id": "052ccfd1",
   "metadata": {},
   "outputs": [],
   "source": [
    "#Saving codes\n",
    "with open(\"codes\", \"wb\") as fp:   #Pickling\n",
    "    pickle.dump(codes, fp)"
   ]
  },
  {
   "cell_type": "code",
   "execution_count": 18,
   "id": "83fd0c0d",
   "metadata": {},
   "outputs": [
    {
     "data": {
      "image/png": "[encoded data removed]",
      "text/plain": [
       "<Figure size 432x288 with 1 Axes>"
      ]
     },
     "metadata": {
      "needs_background": "light"
     },
     "output_type": "display_data"
    }
   ],
   "source": [
    "plt.imshow(X_test[7])\n",
    "#label\n",
    "plt.title(f'True label: {codes[np.argmax(y_test[7])]}')\n",
    "plt.show()"
   ]
  },
  {
   "cell_type": "code",
   "execution_count": 19,
   "id": "12b02eef",
   "metadata": {},
   "outputs": [
    {
     "name": "stdout",
     "output_type": "stream",
     "text": [
      "Model prediction is 8\n"
     ]
    }
   ],
   "source": [
    "prediction = model.predict(X_test[np.newaxis,7])\n",
    "print(f'Model prediction is {codes[np.argmax(prediction)]}')"
   ]
  },
  {
   "cell_type": "code",
   "execution_count": null,
   "id": "bc6c5856",
   "metadata": {},
   "outputs": [],
   "source": []
  }
 ],
 "metadata": {
  "kernelspec": {
   "display_name": "Python 3 (ipykernel)",
   "language": "python",
   "name": "python3"
  },
  "language_info": {
   "codemirror_mode": {
    "name": "ipython",
    "version": 3
   },
   "file_extension": ".py",
   "mimetype": "text/x-python",
   "name": "python",
   "nbconvert_exporter": "python",
   "pygments_lexer": "ipython3",
   "version": "3.7.11"
  }
 },
 "nbformat": 4,
 "nbformat_minor": 5
}
